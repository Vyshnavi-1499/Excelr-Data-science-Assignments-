{
  "nbformat": 4,
  "nbformat_minor": 0,
  "metadata": {
    "colab": {
      "provenance": []
    },
    "kernelspec": {
      "name": "python3",
      "display_name": "Python 3"
    },
    "language_info": {
      "name": "python"
    }
  },
  "cells": [
    {
      "cell_type": "code",
      "execution_count": 1,
      "metadata": {
        "id": "HZvCxRnF_VDb"
      },
      "outputs": [],
      "source": [
        "import numpy as np\n",
        "import scipy.stats as stats"
      ]
    },
    {
      "cell_type": "code",
      "source": [
        "# Data from the problem\n",
        "observed = np.array([\n",
        "    [50, 70],\n",
        "    [80, 100],\n",
        "    [60, 90],\n",
        "    [30, 50],\n",
        "    [20, 50]\n",
        "])"
      ],
      "metadata": {
        "id": "T5YWPg8A_gMc"
      },
      "execution_count": 2,
      "outputs": []
    },
    {
      "cell_type": "code",
      "source": [
        "# Row and column totals\n",
        "row_totals = observed.sum(axis=1)\n",
        "column_totals = observed.sum(axis=0)\n",
        "grand_total = observed.sum()\n"
      ],
      "metadata": {
        "id": "bf_NXfZ__wSM"
      },
      "execution_count": 3,
      "outputs": []
    },
    {
      "cell_type": "code",
      "source": [
        "# Calculate expected frequencies\n",
        "expected = np.outer(row_totals, column_totals) / grand_total\n"
      ],
      "metadata": {
        "id": "wmknn8w7_zFJ"
      },
      "execution_count": 4,
      "outputs": []
    },
    {
      "cell_type": "code",
      "source": [
        "# Compute the Chi-Square statistic\n",
        "chi_square_statistic = ((observed - expected) ** 2 / expected).sum()"
      ],
      "metadata": {
        "id": "nZsgZmnu_5Kl"
      },
      "execution_count": 5,
      "outputs": []
    },
    {
      "cell_type": "code",
      "source": [
        "# Degrees of freedom\n",
        "df = (observed.shape[0] - 1) * (observed.shape[1] - 1)"
      ],
      "metadata": {
        "id": "fjW-L38M_-Vm"
      },
      "execution_count": 6,
      "outputs": []
    },
    {
      "cell_type": "code",
      "source": [
        "# Critical value at alpha = 0.05\n",
        "alpha = 0.05\n",
        "critical_value = stats.chi2.ppf(1 - alpha, df)"
      ],
      "metadata": {
        "id": "5-Vq6IUSAP14"
      },
      "execution_count": 7,
      "outputs": []
    },
    {
      "cell_type": "code",
      "source": [
        "# Print results\n",
        "print(f\"Chi-Square Statistic: {chi_square_statistic:.4f}\")\n",
        "print(f\"Degrees of Freedom: {df}\")\n",
        "print(f\"Critical Value: {critical_value:.4f}\")\n"
      ],
      "metadata": {
        "colab": {
          "base_uri": "https://localhost:8080/"
        },
        "id": "ezQJKaN-AVGS",
        "outputId": "cd8fca53-6306-4941-cf27-0cfeac8b563a"
      },
      "execution_count": 8,
      "outputs": [
        {
          "output_type": "stream",
          "name": "stdout",
          "text": [
            "Chi-Square Statistic: 5.6382\n",
            "Degrees of Freedom: 4\n",
            "Critical Value: 9.4877\n"
          ]
        }
      ]
    },
    {
      "cell_type": "code",
      "source": [
        "# Decision\n",
        "if chi_square_statistic > critical_value:\n",
        "    print(\"Reject the null hypothesis: There is a significant association between device type and customer satisfaction.\")\n",
        "else:\n",
        "    print(\"Fail to reject the null hypothesis: There is no significant association between device type and customer satisfaction.\")"
      ],
      "metadata": {
        "colab": {
          "base_uri": "https://localhost:8080/"
        },
        "id": "rBQUxKjfAapz",
        "outputId": "5683d98c-75aa-4491-e4f5-0d81d830d90e"
      },
      "execution_count": 9,
      "outputs": [
        {
          "output_type": "stream",
          "name": "stdout",
          "text": [
            "Fail to reject the null hypothesis: There is no significant association between device type and customer satisfaction.\n"
          ]
        }
      ]
    },
    {
      "cell_type": "code",
      "source": [
        "import scipy.stats as stats"
      ],
      "metadata": {
        "id": "loxaSI2bAq6J"
      },
      "execution_count": 11,
      "outputs": []
    },
    {
      "cell_type": "code",
      "source": [
        "# Given data\n",
        "sample_mean = 3050\n",
        "theoretical_mean = 1000 + 5 * 600  # $1000 + $5 per unit * 600 units = $4000\n",
        "sigma = 5 * 25  # Standard deviation = $125\n",
        "n = 25  # Sample size"
      ],
      "metadata": {
        "id": "FNZl2z1cBLCn"
      },
      "execution_count": 12,
      "outputs": []
    },
    {
      "cell_type": "code",
      "source": [
        "# Calculate the standard error\n",
        "standard_error = sigma / (n ** 0.5)\n"
      ],
      "metadata": {
        "id": "z27dunRrBSSm"
      },
      "execution_count": 13,
      "outputs": []
    },
    {
      "cell_type": "code",
      "source": [
        "# Calculate the test statistic\n",
        "t_statistic = (sample_mean - theoretical_mean) / standard_error\n",
        "\n",
        "# Alpha level for one-tailed test\n",
        "alpha = 0.05"
      ],
      "metadata": {
        "id": "fpKfqRKnBW4D"
      },
      "execution_count": 14,
      "outputs": []
    },
    {
      "cell_type": "code",
      "source": [
        "# Critical value from Z-distribution for one-tailed test\n",
        "z_critical = stats.norm.ppf(1 - alpha)"
      ],
      "metadata": {
        "id": "GhtxmxuCBhyi"
      },
      "execution_count": 15,
      "outputs": []
    },
    {
      "cell_type": "code",
      "source": [
        "# Print results\n",
        "print(f\"Test Statistic: {t_statistic:.2f}\")\n",
        "print(f\"Critical Value: {z_critical:.2f}\")\n"
      ],
      "metadata": {
        "colab": {
          "base_uri": "https://localhost:8080/"
        },
        "id": "QDta_RvmBl0Q",
        "outputId": "0117cad8-4043-4492-d58b-5e1b2711a2c5"
      },
      "execution_count": 16,
      "outputs": [
        {
          "output_type": "stream",
          "name": "stdout",
          "text": [
            "Test Statistic: -38.00\n",
            "Critical Value: 1.64\n"
          ]
        }
      ]
    },
    {
      "cell_type": "code",
      "source": [
        "# Decision\n",
        "if t_statistic > z_critical:\n",
        "    print(\"Reject the null hypothesis: There is evidence to suggest that the weekly operating costs are higher than the model suggests.\")\n",
        "else:\n",
        "    print(\"Fail to reject the null hypothesis: There is no strong evidence to suggest that the weekly operating costs are higher than the model suggests.\")"
      ],
      "metadata": {
        "colab": {
          "base_uri": "https://localhost:8080/"
        },
        "id": "9KDa-p49Bqnd",
        "outputId": "b2f1ff54-9ec4-48fc-c4bf-0f0b98169654"
      },
      "execution_count": 17,
      "outputs": [
        {
          "output_type": "stream",
          "name": "stdout",
          "text": [
            "Fail to reject the null hypothesis: There is no strong evidence to suggest that the weekly operating costs are higher than the model suggests.\n"
          ]
        }
      ]
    }
  ]
}