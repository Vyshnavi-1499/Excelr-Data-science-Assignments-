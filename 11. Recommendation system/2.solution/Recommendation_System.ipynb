{
  "nbformat": 4,
  "nbformat_minor": 0,
  "metadata": {
    "colab": {
      "provenance": []
    },
    "kernelspec": {
      "name": "python3",
      "display_name": "Python 3"
    },
    "language_info": {
      "name": "python"
    }
  },
  "cells": [
    {
      "cell_type": "code",
      "execution_count": 1,
      "metadata": {
        "id": "xBImdjrAz-jQ"
      },
      "outputs": [],
      "source": [
        "import pandas as pd\n",
        "\n",
        "# Load the dataset\n",
        "anime_df = pd.read_csv('/content/anime.csv')\n"
      ]
    },
    {
      "cell_type": "code",
      "source": [
        "# Check for missing values\n",
        "print(anime_df.isnull().sum())\n",
        "\n",
        "\n"
      ],
      "metadata": {
        "colab": {
          "base_uri": "https://localhost:8080/"
        },
        "id": "VQ750RzM0Pkp",
        "outputId": "3ad87731-8fc7-4a94-bac6-3a9ca395a6d9"
      },
      "execution_count": 3,
      "outputs": [
        {
          "output_type": "stream",
          "name": "stdout",
          "text": [
            "anime_id      0\n",
            "name          0\n",
            "genre        62\n",
            "type         25\n",
            "episodes      0\n",
            "rating      230\n",
            "members       0\n",
            "dtype: int64\n"
          ]
        }
      ]
    },
    {
      "cell_type": "code",
      "source": [
        "# Get a summary of the dataset\n",
        "print(anime_df.info())\n",
        "print(anime_df.head())\n"
      ],
      "metadata": {
        "colab": {
          "base_uri": "https://localhost:8080/"
        },
        "id": "yLsR4Bhy0YX7",
        "outputId": "61c12504-1dbd-4fc7-9306-0cc9d17f263c"
      },
      "execution_count": 4,
      "outputs": [
        {
          "output_type": "stream",
          "name": "stdout",
          "text": [
            "<class 'pandas.core.frame.DataFrame'>\n",
            "RangeIndex: 12294 entries, 0 to 12293\n",
            "Data columns (total 7 columns):\n",
            " #   Column    Non-Null Count  Dtype  \n",
            "---  ------    --------------  -----  \n",
            " 0   anime_id  12294 non-null  int64  \n",
            " 1   name      12294 non-null  object \n",
            " 2   genre     12232 non-null  object \n",
            " 3   type      12269 non-null  object \n",
            " 4   episodes  12294 non-null  object \n",
            " 5   rating    12064 non-null  float64\n",
            " 6   members   12294 non-null  int64  \n",
            "dtypes: float64(1), int64(2), object(4)\n",
            "memory usage: 672.5+ KB\n",
            "None\n",
            "   anime_id                              name  \\\n",
            "0     32281                    Kimi no Na wa.   \n",
            "1      5114  Fullmetal Alchemist: Brotherhood   \n",
            "2     28977                          Gintama°   \n",
            "3      9253                       Steins;Gate   \n",
            "4      9969                     Gintama&#039;   \n",
            "\n",
            "                                               genre   type episodes  rating  \\\n",
            "0               Drama, Romance, School, Supernatural  Movie        1    9.37   \n",
            "1  Action, Adventure, Drama, Fantasy, Magic, Mili...     TV       64    9.26   \n",
            "2  Action, Comedy, Historical, Parody, Samurai, S...     TV       51    9.25   \n",
            "3                                   Sci-Fi, Thriller     TV       24    9.17   \n",
            "4  Action, Comedy, Historical, Parody, Samurai, S...     TV       51    9.16   \n",
            "\n",
            "   members  \n",
            "0   200630  \n",
            "1   793665  \n",
            "2   114262  \n",
            "3   673572  \n",
            "4   151266  \n"
          ]
        }
      ]
    },
    {
      "cell_type": "code",
      "source": [
        "# One-hot encoding for genres\n",
        "genre_dummies = anime_df['genre'].str.get_dummies(sep=', ')\n",
        "anime_df = pd.concat([anime_df, genre_dummies], axis=1)\n"
      ],
      "metadata": {
        "id": "V51wm6Uj0fX5"
      },
      "execution_count": 5,
      "outputs": []
    },
    {
      "source": [
        "import pandas as pd\n",
        "from sklearn.preprocessing import MinMaxScaler\n",
        "\n",
        "# ... (your previous code) ...\n",
        "\n",
        "# Replace 'Unknown' with NaN in 'rating' and 'episodes' columns\n",
        "anime_df['rating'] = pd.to_numeric(anime_df['rating'], errors='coerce')\n",
        "anime_df['episodes'] = pd.to_numeric(anime_df['episodes'], errors='coerce')\n",
        "\n",
        "# Now apply the scaler\n",
        "scaler = MinMaxScaler()\n",
        "anime_df[['rating', 'episodes']] = scaler.fit_transform(anime_df[['rating', 'episodes']])"
      ],
      "cell_type": "code",
      "metadata": {
        "id": "TJv0Nkd80zG1"
      },
      "execution_count": 7,
      "outputs": []
    },
    {
      "source": [
        "import pandas as pd\n",
        "from sklearn.preprocessing import MinMaxScaler\n",
        "from sklearn.metrics.pairwise import cosine_similarity\n",
        "from sklearn.impute import SimpleImputer\n",
        "\n",
        "# ... (your previous code) ...\n",
        "\n",
        "# Select features for similarity computation\n",
        "feature_columns = ['rating', 'episodes'] + list(genre_dummies.columns)\n",
        "anime_features = anime_df[feature_columns]\n",
        "\n",
        "# Impute missing values using the mean\n",
        "imputer = SimpleImputer(strategy='mean') # or strategy='median', 'most_frequent'\n",
        "anime_features = imputer.fit_transform(anime_features)\n",
        "\n",
        "# Alternatively, you can drop rows with missing values:\n",
        "# anime_features = anime_features.dropna()\n",
        "\n",
        "# Compute cosine similarity matrix\n",
        "cosine_sim = cosine_similarity(anime_features)"
      ],
      "cell_type": "code",
      "metadata": {
        "id": "6ykNf9WX1Gwx"
      },
      "execution_count": 9,
      "outputs": []
    },
    {
      "cell_type": "code",
      "source": [
        "def recommend_anime(title, cosine_sim, anime_df, top_n=5):\n",
        "    # Get the index of the anime that matches the title\n",
        "    idx = anime_df.index[anime_df['title'] == title].tolist()[0]\n",
        "\n",
        "    # Get the pairwise similarity scores of all anime with that anime\n",
        "    sim_scores = list(enumerate(cosine_sim[idx]))\n",
        "\n",
        "    # Sort the anime based on the similarity scores\n",
        "    sim_scores = sorted(sim_scores, key=lambda x: x[1], reverse=True)\n",
        "\n",
        "    # Get the scores of the top_n most similar anime\n",
        "    sim_scores = sim_scores[1:top_n+1]  # Skip the first one since it is the anime itself\n",
        "\n",
        "    # Get the anime indices\n",
        "    anime_indices = [i[0] for i in sim_scores]\n",
        "\n",
        "    # Return the top_n most similar anime\n",
        "    return anime_df.iloc[anime_indices][['title', 'rating']]\n"
      ],
      "metadata": {
        "id": "eQeul_ju1KZL"
      },
      "execution_count": 10,
      "outputs": []
    },
    {
      "cell_type": "code",
      "source": [
        "def recommend_anime_with_threshold(title, cosine_sim, anime_df, threshold=0.5):\n",
        "    idx = anime_df.index[anime_df['title'] == title].tolist()[0]\n",
        "    sim_scores = list(enumerate(cosine_sim[idx]))\n",
        "\n",
        "    # Filter by threshold\n",
        "    filtered_sim_scores = [s for s in sim_scores if s[1] > threshold]\n",
        "\n",
        "    # Sort the filtered anime based on the similarity scores\n",
        "    filtered_sim_scores = sorted(filtered_sim_scores, key=lambda x: x[1], reverse=True)\n",
        "\n",
        "    anime_indices = [i[0] for i in filtered_sim_scores[1:6]]  # Top 5 excluding itself\n",
        "    return anime_df.iloc[anime_indices][['title', 'rating']]\n"
      ],
      "metadata": {
        "id": "6B0QU25N1ODQ"
      },
      "execution_count": 14,
      "outputs": []
    },
    {
      "cell_type": "code",
      "source": [
        "from sklearn.model_selection import train_test_split\n",
        "\n",
        "train_df, test_df = train_test_split(anime_df, test_size=0.2, random_state=42)\n"
      ],
      "metadata": {
        "id": "sYkqDMzb1SgR"
      },
      "execution_count": 12,
      "outputs": []
    },
    {
      "cell_type": "code",
      "source": [
        "# Example: precision, recall calculations can go here\n",
        "# Placeholder function\n",
        "def evaluate_recommendations(recommended, actual):\n",
        "    # Placeholder for precision, recall, F1-score calculations\n",
        "    pass\n"
      ],
      "metadata": {
        "id": "L6BJh9Rh1WA3"
      },
      "execution_count": 13,
      "outputs": []
    }
  ]
}